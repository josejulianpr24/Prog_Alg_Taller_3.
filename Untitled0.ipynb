{
  "nbformat": 4,
  "nbformat_minor": 0,
  "metadata": {
    "colab": {
      "provenance": [],
      "authorship_tag": "ABX9TyMkVo5jDiO7GH7ekXHFkWSG",
      "include_colab_link": true
    },
    "kernelspec": {
      "name": "python3",
      "display_name": "Python 3"
    },
    "language_info": {
      "name": "python"
    }
  },
  "cells": [
    {
      "cell_type": "markdown",
      "metadata": {
        "id": "view-in-github",
        "colab_type": "text"
      },
      "source": [
        "<a href=\"https://colab.research.google.com/github/josejulianpr24/Prog_Alg_Taller_3./blob/main/Untitled0.ipynb\" target=\"_parent\"><img src=\"https://colab.research.google.com/assets/colab-badge.svg\" alt=\"Open In Colab\"/></a>"
      ]
    },
    {
      "cell_type": "code",
      "execution_count": 3,
      "metadata": {
        "colab": {
          "base_uri": "https://localhost:8080/"
        },
        "id": "pAsCUD5RZIOm",
        "outputId": "61c1f520-3027-45e9-f647-ead00cec2343"
      },
      "outputs": [
        {
          "output_type": "stream",
          "name": "stdout",
          "text": [
            "Mi nombre_esJose JulianVivo en Ayapen\n"
          ]
        }
      ],
      "source": [
        "mensaje1=\"Mi nombre_es\"\n",
        "mensaje2=\"Jose Julian\"\n",
        "mensaje3=\"Vivo en Ayapen\"\n",
        "print (mensaje1 + mensaje2 + mensaje3)"
      ]
    },
    {
      "cell_type": "code",
      "source": [],
      "metadata": {
        "id": "-FqtzATDaUAG"
      },
      "execution_count": null,
      "outputs": []
    }
  ]
}